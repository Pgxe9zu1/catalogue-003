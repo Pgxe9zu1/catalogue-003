{
 "cells": [
  {
   "cell_type": "markdown",
   "metadata": {
    "id": "zXRmiQOY9GRv"
   },
   "source": [
    "### Query ORCID for works authored by a person\n",
    "\n",
    "Taken from Project TAPIR's repository of Jupyter Notebooks: https://github.com/Project-TAPIR/pidgraph-notebooks\n",
    "\n",
    "This notebook queries the [ORCID Public API](https://pub.orcid.org/v3.0/) to retrieve works listed in a person's ORCID record. It takes an ORCID URL or iD as input to retrieve the ORCID record of a person and the works listed on it. From the resulting list of works we output all DOIs."
   ]
  },
  {
   "cell_type": "code",
   "execution_count": 1,
   "metadata": {
    "id": "8OqUUX037qB4",
    "scrolled": true
   },
   "outputs": [],
   "source": [
    "# Prerequisites:\n",
    "import requests                        # dependency to make HTTP calls\n",
    "from benedict import benedict          # dependency for dealing with json"
   ]
  },
  {
   "cell_type": "markdown",
   "metadata": {
    "id": "G3oSBrNo8rb-"
   },
   "source": [
    "The input for this notebook is an ORCID URL or iD, e.g. '`https://orcid.org/0000-0003-2499-7741`' or '`0000-0003-2499-7741`'."
   ]
  },
  {
   "cell_type": "code",
   "execution_count": 2,
   "metadata": {
    "executionInfo": {
     "elapsed": 20,
     "status": "ok",
     "timestamp": 1643202545770,
     "user": {
      "displayName": "Sandra M",
      "photoUrl": "https://lh3.googleusercontent.com/a-/AOh14GjjehryRcYlqHNFf_9Q6slGN_VZPE0y5QkvOxzG=s64",
      "userId": "04602594913862593282"
     },
     "user_tz": -60
    },
    "id": "I_KWAcmq98no"
   },
   "outputs": [],
   "source": [
    "# input parameter\n",
    "example_orcid=\"https://orcid.org/0000-0002-2437-589X\""
   ]
  },
  {
   "cell_type": "markdown",
   "metadata": {
    "id": "sD-zpjgT9_rn"
   },
   "source": [
    "We use it to query ORCID's Public API for the person's metadata and all works connected to them."
   ]
  },
  {
   "cell_type": "code",
   "execution_count": 3,
   "metadata": {
    "executionInfo": {
     "elapsed": 685,
     "status": "ok",
     "timestamp": 1643202546441,
     "user": {
      "displayName": "Sandra M",
      "photoUrl": "https://lh3.googleusercontent.com/a-/AOh14GjjehryRcYlqHNFf_9Q6slGN_VZPE0y5QkvOxzG=s64",
      "userId": "04602594913862593282"
     },
     "user_tz": -60
    },
    "id": "qH6LfmWH-HLs"
   },
   "outputs": [],
   "source": [
    "# URL for ORCID API\n",
    "ORCID_RECORD_API = \"https://pub.orcid.org/v3.0/\"\n",
    "\n",
    "# query ORCID for an ORCID record\n",
    "def query_orcid_for_record(orcid_id):\n",
    "\n",
    "    response = requests.get(url=requests.utils.requote_uri(ORCID_RECORD_API + orcid_id),\n",
    "                          headers={'Accept': 'application/json'})\n",
    "    response.raise_for_status()\n",
    "    result=response.json()\n",
    "    return result\n",
    "\n",
    "\n",
    "#-- example execution\n",
    "orcid_id=example_orcid.replace(\"https://orcid.org/\", \"\")\n",
    "orcid_record=query_orcid_for_record(orcid_id)\n",
    "# uncomment next lines to see complete metadata for given ORCID\n",
    "#import pprint\n",
    "#pprint.pprint(orcid_record)"
   ]
  },
  {
   "cell_type": "markdown",
   "metadata": {
    "id": "gZ43Wyp7_qVu"
   },
   "source": [
    "From the complete ORCID metadata we extract the works section and print out title and DOI of each first `work-summary` (the first item in a personal information section has the highest [display index](https://info.orcid.org/documentation/integration-guide/orcid-record/#Display_index)).\n",
    "\n",
    "*Note: works that do not have a DOI assigned, will not be printed.*"
   ]
  },
  {
   "cell_type": "code",
   "execution_count": 4,
   "metadata": {
    "colab": {
     "base_uri": "https://localhost:8080/"
    },
    "executionInfo": {
     "elapsed": 12,
     "status": "ok",
     "timestamp": 1643202546444,
     "user": {
      "displayName": "Sandra M",
      "photoUrl": "https://lh3.googleusercontent.com/a-/AOh14GjjehryRcYlqHNFf_9Q6slGN_VZPE0y5QkvOxzG=s64",
      "userId": "04602594913862593282"
     },
     "user_tz": -60
    },
    "id": "Xn1ttd1L__vA",
    "outputId": "7e726c92-df32-43db-c3d7-800c4160d9ea"
   },
   "outputs": [
    {
     "name": "stdout",
     "output_type": "stream",
     "text": [
      "10.21428/785a6451.af466093, What is computational publishing?\n",
      "10.21428/785a6451.1792b84f, Books Contain Multitudes\n",
      "10.21428/785a6451.0ed93b68, Part 1: Mapping & Situating Experimental Books\n",
      "10.21428/785a6451.cd58a48e, Part 2: A Typology of Experimental Books\n",
      "10.21428/785a6451.c4d3ffa1, Introducing COPIM's new website\n",
      "10.17613/d4rs-rx03, Posthumanism in Outer Wilds\n",
      "10.17613/5SJE-W447, New Sincerity, the Weird, and the post-ironic turn in contemporary indie video games\n",
      "10.20944/preprints202001.0240.v1, Open or Ajar? Openness within the Neoliberal Academy\n"
     ]
    }
   ],
   "source": [
    "# extract works section from ORCID profile\n",
    "def extract_works_section(orcid_record):\n",
    "    orcid_dict=benedict.from_json(orcid_record)\n",
    "    works=orcid_dict.get('activities-summary.works.group') or []\n",
    "    return works\n",
    "\n",
    "# for each work in the work section: extract title and DOI\n",
    "def extract_doi(work):\n",
    "    work_dict=benedict.from_json(work)\n",
    "    title=work_dict.get('work-summary[0].title.title.value')\n",
    "    dois= [doi['external-id-value'] for doi in work_dict.get('work-summary[0].external-ids.external-id', []) if doi['external-id-type']==\"doi\"]\n",
    "    # if there is a DOI assigned to the work, the list of dois is not empty and we can extract the first one\n",
    "    doi=dois[0] if dois else None\n",
    "    return doi, title\n",
    "\n",
    "\n",
    "# ---- example execution\n",
    "works=extract_works_section(orcid_record)\n",
    "for work in works:\n",
    "    doi,title = extract_doi(work)\n",
    "    if doi:\n",
    "        print(f\"{doi}, {title}\")"
   ]
  }
 ],
 "metadata": {
  "colab": {
   "authorship_tag": "ABX9TyODvRNkLSMqVZfZ+mPUc8CJ",
   "name": "orcid_get_works_by_person.ipynb",
   "provenance": [
    {
     "file_id": "1KzKd-wQe1zzvp8-tkukdrpXOhEy3on2t",
     "timestamp": 1643202582749
    }
   ]
  },
  "kernelspec": {
   "display_name": "Python 3",
   "language": "python",
   "name": "python3"
  },
  "language_info": {
   "codemirror_mode": {
    "name": "ipython",
    "version": 3
   },
   "file_extension": ".py",
   "mimetype": "text/x-python",
   "name": "python",
   "nbconvert_exporter": "python",
   "pygments_lexer": "ipython3",
   "version": "3.8.2"
  }
 },
 "nbformat": 4,
 "nbformat_minor": 4
}
