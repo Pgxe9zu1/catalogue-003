{
 "cells": [
  {
   "cell_type": "code",
   "execution_count": 2,
   "metadata": {},
   "outputs": [
    {
     "name": "stdout",
     "output_type": "stream",
     "text": [
      "{'Bild': {'type': 'uri', 'value': 'http://commons.wikimedia.org/wiki/Special:FilePath/Bravaisia%20-%20Flickr%20-%20treegrow.jpg'}, 'Gefährdungsstufe__IUCN_': {'type': 'uri', 'value': 'http://www.wikidata.org/entity/Q211005'}, 'described_at_URL': {'type': 'uri', 'value': 'http://herbarium.bgbm.org/object/B101181698'}, 'taxon_rang': {'type': 'uri', 'value': 'http://www.wikidata.org/entity/Q7432'}, 'übergeordnetes_Taxon': {'type': 'uri', 'value': 'http://www.wikidata.org/entity/Q5844840'}, 'itemLabel': {'xml:lang': 'de', 'type': 'literal', 'value': 'Bravaisia berlandieriana'}, 'taxon_rangLabel': {'xml:lang': 'de', 'type': 'literal', 'value': 'Art'}, 'übergeordnetes_TaxonLabel': {'xml:lang': 'de', 'type': 'literal', 'value': 'Bravaisia'}, 'Gefährdungsstufe__IUCN_Label': {'xml:lang': 'de', 'type': 'literal', 'value': 'nicht gefährdet'}}\n",
      "{'Bild': {'type': 'uri', 'value': 'http://commons.wikimedia.org/wiki/Special:FilePath/Cordia%20dodecandra%20Ciricote%20cozumel%20Is..jpg'}, 'Gefährdungsstufe__IUCN_': {'type': 'uri', 'value': 'http://www.wikidata.org/entity/Q211005'}, 'described_at_URL': {'type': 'uri', 'value': 'http://herbarium.bgbm.org/object/B100031878'}, 'taxon_rang': {'type': 'uri', 'value': 'http://www.wikidata.org/entity/Q7432'}, 'übergeordnetes_Taxon': {'type': 'uri', 'value': 'http://www.wikidata.org/entity/Q716132'}, 'itemLabel': {'xml:lang': 'de', 'type': 'literal', 'value': 'Cordia dodecandra'}, 'taxon_rangLabel': {'xml:lang': 'de', 'type': 'literal', 'value': 'Art'}, 'übergeordnetes_TaxonLabel': {'xml:lang': 'de', 'type': 'literal', 'value': 'Kordien'}, 'Gefährdungsstufe__IUCN_Label': {'xml:lang': 'de', 'type': 'literal', 'value': 'nicht gefährdet'}}\n",
      "{'Bild': {'type': 'uri', 'value': 'http://commons.wikimedia.org/wiki/Special:FilePath/Neocallitropsis%20pancheri%202a.jpg'}, 'Gefährdungsstufe__IUCN_': {'type': 'uri', 'value': 'http://www.wikidata.org/entity/Q11394'}, 'described_at_URL': {'type': 'uri', 'value': 'http://herbarium.bgbm.org/object/B100052427'}, 'taxon_rang': {'type': 'uri', 'value': 'http://www.wikidata.org/entity/Q7432'}, 'übergeordnetes_Taxon': {'type': 'uri', 'value': 'http://www.wikidata.org/entity/Q13075498'}, 'itemLabel': {'xml:lang': 'de', 'type': 'literal', 'value': 'Neocallitropsis pancheri'}, 'taxon_rangLabel': {'xml:lang': 'de', 'type': 'literal', 'value': 'Art'}, 'übergeordnetes_TaxonLabel': {'xml:lang': 'de', 'type': 'literal', 'value': 'Neocallitropsis'}, 'Gefährdungsstufe__IUCN_Label': {'xml:lang': 'de', 'type': 'literal', 'value': 'stark gefährdet'}}\n",
      "{'Bild': {'type': 'uri', 'value': 'http://commons.wikimedia.org/wiki/Special:FilePath/Widdringtonia%20whytei%20Mulanje%20Malawi.jpg'}, 'Gefährdungsstufe__IUCN_': {'type': 'uri', 'value': 'http://www.wikidata.org/entity/Q219127'}, 'described_at_URL': {'type': 'uri', 'value': 'http://herbarium.bgbm.org/object/B100019851'}, 'taxon_rang': {'type': 'uri', 'value': 'http://www.wikidata.org/entity/Q7432'}, 'übergeordnetes_Taxon': {'type': 'uri', 'value': 'http://www.wikidata.org/entity/Q117681'}, 'itemLabel': {'xml:lang': 'de', 'type': 'literal', 'value': 'Widdringtonia whytei'}, 'taxon_rangLabel': {'xml:lang': 'de', 'type': 'literal', 'value': 'Art'}, 'übergeordnetes_TaxonLabel': {'xml:lang': 'de', 'type': 'literal', 'value': 'Widdringtonia'}, 'Gefährdungsstufe__IUCN_Label': {'xml:lang': 'de', 'type': 'literal', 'value': 'vom Aussterben bedroht'}}\n",
      "{'Bild': {'type': 'uri', 'value': 'http://commons.wikimedia.org/wiki/Special:FilePath/Astragalus%20crassicarpus.jpg'}, 'Gefährdungsstufe__IUCN_': {'type': 'uri', 'value': 'http://www.wikidata.org/entity/Q211005'}, 'described_at_URL': {'type': 'uri', 'value': 'http://herbarium.bgbm.org/object/B180006231'}, 'taxon_rang': {'type': 'uri', 'value': 'http://www.wikidata.org/entity/Q7432'}, 'übergeordnetes_Taxon': {'type': 'uri', 'value': 'http://www.wikidata.org/entity/Q157184'}, 'itemLabel': {'xml:lang': 'de', 'type': 'literal', 'value': 'Astragalus crassicarpus'}, 'taxon_rangLabel': {'xml:lang': 'de', 'type': 'literal', 'value': 'Art'}, 'übergeordnetes_TaxonLabel': {'xml:lang': 'de', 'type': 'literal', 'value': 'Tragant'}, 'Gefährdungsstufe__IUCN_Label': {'xml:lang': 'de', 'type': 'literal', 'value': 'nicht gefährdet'}}\n",
      "{'Bild': {'type': 'uri', 'value': 'http://commons.wikimedia.org/wiki/Special:FilePath/Lacebark%20pine%20of%20Susong-dong.jpg'}, 'Gefährdungsstufe__IUCN_': {'type': 'uri', 'value': 'http://www.wikidata.org/entity/Q211005'}, 'described_at_URL': {'type': 'uri', 'value': 'http://herbarium.bgbm.org/object/B101063552'}, 'taxon_rang': {'type': 'uri', 'value': 'http://www.wikidata.org/entity/Q7432'}, 'übergeordnetes_Taxon': {'type': 'uri', 'value': 'http://www.wikidata.org/entity/Q14957255'}, 'itemLabel': {'xml:lang': 'de', 'type': 'literal', 'value': 'Pinus bungeana'}, 'taxon_rangLabel': {'xml:lang': 'de', 'type': 'literal', 'value': 'Art'}, 'übergeordnetes_TaxonLabel': {'xml:lang': 'de', 'type': 'literal', 'value': 'Pinus subsect. Gerardianae'}, 'Gefährdungsstufe__IUCN_Label': {'xml:lang': 'de', 'type': 'literal', 'value': 'nicht gefährdet'}}\n",
      "{'Bild': {'type': 'uri', 'value': 'http://commons.wikimedia.org/wiki/Special:FilePath/Diospyros%20texana.jpg'}, 'Gefährdungsstufe__IUCN_': {'type': 'uri', 'value': 'http://www.wikidata.org/entity/Q211005'}, 'described_at_URL': {'type': 'uri', 'value': 'http://herbarium.bgbm.org/object/B101160752'}, 'taxon_rang': {'type': 'uri', 'value': 'http://www.wikidata.org/entity/Q7432'}, 'übergeordnetes_Taxon': {'type': 'uri', 'value': 'http://www.wikidata.org/entity/Q165258'}, 'itemLabel': {'xml:lang': 'de', 'type': 'literal', 'value': 'Diospyros texana'}, 'taxon_rangLabel': {'xml:lang': 'de', 'type': 'literal', 'value': 'Art'}, 'übergeordnetes_TaxonLabel': {'xml:lang': 'de', 'type': 'literal', 'value': 'Diospyros'}, 'Gefährdungsstufe__IUCN_Label': {'xml:lang': 'de', 'type': 'literal', 'value': 'nicht gefährdet'}}\n",
      "{'Bild': {'type': 'uri', 'value': 'http://commons.wikimedia.org/wiki/Special:FilePath/Illustration%20Arundo%20donax0.jpg'}, 'Gefährdungsstufe__IUCN_': {'type': 'uri', 'value': 'http://www.wikidata.org/entity/Q211005'}, 'described_at_URL': {'type': 'uri', 'value': 'http://herbarium.bgbm.org/object/BW02221020'}, 'taxon_rang': {'type': 'uri', 'value': 'http://www.wikidata.org/entity/Q7432'}, 'übergeordnetes_Taxon': {'type': 'uri', 'value': 'http://www.wikidata.org/entity/Q165263'}, 'itemLabel': {'xml:lang': 'de', 'type': 'literal', 'value': 'Pfahlrohr'}, 'taxon_rangLabel': {'xml:lang': 'de', 'type': 'literal', 'value': 'Art'}, 'übergeordnetes_TaxonLabel': {'xml:lang': 'de', 'type': 'literal', 'value': 'Arundo'}, 'Gefährdungsstufe__IUCN_Label': {'xml:lang': 'de', 'type': 'literal', 'value': 'nicht gefährdet'}}\n",
      "{'Bild': {'type': 'uri', 'value': 'http://commons.wikimedia.org/wiki/Special:FilePath/Lacebark%20pine%20of%20Susong-dong.jpg'}, 'Gefährdungsstufe__IUCN_': {'type': 'uri', 'value': 'http://www.wikidata.org/entity/Q211005'}, 'described_at_URL': {'type': 'uri', 'value': 'http://herbarium.bgbm.org/object/B101063552'}, 'taxon_rang': {'type': 'uri', 'value': 'http://www.wikidata.org/entity/Q7432'}, 'übergeordnetes_Taxon': {'type': 'uri', 'value': 'http://www.wikidata.org/entity/Q12024'}, 'itemLabel': {'xml:lang': 'de', 'type': 'literal', 'value': 'Pinus bungeana'}, 'taxon_rangLabel': {'xml:lang': 'de', 'type': 'literal', 'value': 'Art'}, 'übergeordnetes_TaxonLabel': {'xml:lang': 'de', 'type': 'literal', 'value': 'Kiefern'}, 'Gefährdungsstufe__IUCN_Label': {'xml:lang': 'de', 'type': 'literal', 'value': 'nicht gefährdet'}}\n"
     ]
    }
   ],
   "source": [
    "import sys\n",
    "from SPARQLWrapper import SPARQLWrapper, JSON\n",
    "\n",
    "# query link - https://w.wiki/6zJv\n",
    "\n",
    "endpoint_url = \"https://query.wikidata.org/sparql\"\n",
    "\n",
    "query = \"\"\"#defaultView:ImageGrid\n",
    "SELECT DISTINCT ?itemLabel ?Bild ?taxon_rang ?taxon_rangLabel ?übergeordnetes_Taxon ?übergeordnetes_TaxonLabel  ?described_at_URL ?Gefährdungsstufe__IUCN_ ?Gefährdungsstufe__IUCN_Label WHERE {\n",
    "  ?item wdt:P31 wd:Q16521;\n",
    "    wdt:P195 wd:Q119251813;\n",
    "    wdt:P18 ?Bild.\n",
    "  OPTIONAL {\n",
    "    ?item wdt:P171 ?übergeordnetes_Taxon;\n",
    "      wdt:P105 ?taxon_rang;\n",
    "      wdt:P141 ?Gefährdungsstufe__IUCN_;\n",
    "      wdt:P973 ?described_at_URL;\n",
    "      p:P973 ?statement.\n",
    "    ?statement ps:P973 ?described_at_URL;\n",
    "      pq:P407 ?language.\n",
    "  }\n",
    "  FILTER(?language != wd:Q102114802)\n",
    "  SERVICE wikibase:label { bd:serviceParam wikibase:language \"[AUTO_LANGUAGE],de\". }\n",
    "}\n",
    "LIMIT 9\"\"\"\n",
    "\n",
    "\n",
    "def get_results(endpoint_url, query):\n",
    "    user_agent = \"WDQS-example Python/%s.%s\" % (sys.version_info[0], sys.version_info[1])\n",
    "    # TODO adjust user agent; see https://w.wiki/CX6\n",
    "    sparql = SPARQLWrapper(endpoint_url, agent=user_agent)\n",
    "    sparql.setQuery(query)\n",
    "    sparql.setReturnFormat(JSON)\n",
    "    return sparql.query().convert()\n",
    "\n",
    "\n",
    "results = get_results(endpoint_url, query)\n",
    "\n",
    "for result in results[\"results\"][\"bindings\"]:\n",
    "    print(result)\n"
   ]
  },
  {
   "cell_type": "markdown",
   "metadata": {},
   "source": [
    "\n",
    "\n",
    "    Custom Collection by Lisa Sommer (July 23): Plant specimens from the Botanical Garden Berlin https://w.wiki/6zJv.\n",
    "\n",
    "    The collection Notebook only contains the SPARQL query and needs additional Python adding to parse the metadata output.\n"
   ]
  },
  {
   "cell_type": "code",
   "execution_count": null,
   "metadata": {},
   "outputs": [],
   "source": []
  }
 ],
 "metadata": {
  "kernelspec": {
   "display_name": "Python 3 (ipykernel)",
   "language": "python",
   "name": "python3"
  },
  "language_info": {
   "codemirror_mode": {
    "name": "ipython",
    "version": 3
   },
   "file_extension": ".py",
   "mimetype": "text/x-python",
   "name": "python",
   "nbconvert_exporter": "python",
   "pygments_lexer": "ipython3",
   "version": "3.11.4"
  }
 },
 "nbformat": 4,
 "nbformat_minor": 2
}
