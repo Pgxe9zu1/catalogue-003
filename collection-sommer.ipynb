{
 "cells": [
  {
   "cell_type": "code",
   "execution_count": 1,
   "metadata": {},
   "outputs": [
    {
     "name": "stdout",
     "output_type": "stream",
     "text": [
      "{'painting': {'type': 'uri', 'value': 'http://www.wikidata.org/entity/Q19883652'}, 'creator': {'type': 'uri', 'value': 'http://www.wikidata.org/entity/Q229272'}, 'inventory_number': {'type': 'literal', 'value': 'A II 318'}, 'material': {'type': 'uri', 'value': 'http://www.wikidata.org/entity/Q12321255'}, 'copyright_status': {'type': 'uri', 'value': 'http://www.wikidata.org/entity/Q19652'}, 'creatorLabel': {'xml:lang': 'de', 'type': 'literal', 'value': 'Ernst Ludwig Kirchner'}, 'materialLabel': {'xml:lang': 'de', 'type': 'literal', 'value': 'Leinwand'}, 'inventory_numberLabel': {'type': 'literal', 'value': 'A II 318'}, 'copyright_statusLabel': {'xml:lang': 'de', 'type': 'literal', 'value': 'Gemeinfreiheit'}, 'image': {'type': 'uri', 'value': 'http://commons.wikimedia.org/wiki/Special:FilePath/Ernst%20Ludwig%20Kirchner%2C%201913%2C%20Street%2C%20Berlin%2C%20oil%20on%20canvas%2C%20120.6%20x%2091.1%20cm%2C%20MoMA.jpg'}, 'title': {'xml:lang': 'de', 'type': 'literal', 'value': 'Rosa Straße mit Auto'}, 'inceptionyear': {'datatype': 'http://www.w3.org/2001/XMLSchema#integer', 'type': 'literal', 'value': '1913'}}\n",
      "{'painting': {'type': 'uri', 'value': 'http://www.wikidata.org/entity/Q19915165'}, 'creator': {'type': 'uri', 'value': 'http://www.wikidata.org/entity/Q1038608'}, 'inventory_number': {'type': 'literal', 'value': 'W.S. 75'}, 'material': {'type': 'uri', 'value': 'http://www.wikidata.org/entity/Q12321255'}, 'copyright_status': {'type': 'uri', 'value': 'http://www.wikidata.org/entity/Q19652'}, 'creatorLabel': {'xml:lang': 'de', 'type': 'literal', 'value': 'Carl Hasenpflug'}, 'materialLabel': {'xml:lang': 'de', 'type': 'literal', 'value': 'Leinwand'}, 'inventory_numberLabel': {'type': 'literal', 'value': 'W.S. 75'}, 'copyright_statusLabel': {'xml:lang': 'de', 'type': 'literal', 'value': 'Gemeinfreiheit'}, 'image': {'type': 'uri', 'value': 'http://commons.wikimedia.org/wiki/Special:FilePath/Carl%20Georg%20A.%20Hasenpflug%20%281%29Halberstadt.JPG'}, 'title': {'xml:lang': 'de', 'type': 'literal', 'value': 'Kreuzgang am Dom zu Halberstadt'}, 'inceptionyear': {'datatype': 'http://www.w3.org/2001/XMLSchema#integer', 'type': 'literal', 'value': '1836'}}\n",
      "{'painting': {'type': 'uri', 'value': 'http://www.wikidata.org/entity/Q18891287'}, 'creator': {'type': 'uri', 'value': 'http://www.wikidata.org/entity/Q41406'}, 'inventory_number': {'type': 'literal', 'value': 'A II 727'}, 'material': {'type': 'uri', 'value': 'http://www.wikidata.org/entity/Q12321255'}, 'copyright_status': {'type': 'uri', 'value': 'http://www.wikidata.org/entity/Q19652'}, 'creatorLabel': {'xml:lang': 'de', 'type': 'literal', 'value': 'Edvard Munch'}, 'materialLabel': {'xml:lang': 'de', 'type': 'literal', 'value': 'Leinwand'}, 'inventory_numberLabel': {'type': 'literal', 'value': 'A II 727'}, 'copyright_statusLabel': {'xml:lang': 'de', 'type': 'literal', 'value': 'Gemeinfreiheit'}, 'image': {'type': 'uri', 'value': 'http://commons.wikimedia.org/wiki/Special:FilePath/Munch%20-%20To%20mennesker.%20De%20ensomme%20%28Reinhardt-frisen%29%2C%201906-07%2C%20G%20358.jpg'}, 'title': {'xml:lang': 'de', 'type': 'literal', 'value': 'Zwei Menschen. Die Einsamen (Reinhardt-Fries)'}, 'inceptionyear': {'datatype': 'http://www.w3.org/2001/XMLSchema#integer', 'type': 'literal', 'value': '1906'}}\n",
      "{'painting': {'type': 'uri', 'value': 'http://www.wikidata.org/entity/Q21344996'}, 'creator': {'type': 'uri', 'value': 'http://www.wikidata.org/entity/Q134741'}, 'inventory_number': {'type': 'literal', 'value': 'NG 23/61'}, 'material': {'type': 'uri', 'value': 'http://www.wikidata.org/entity/Q12321255'}, 'copyright_status': {'type': 'uri', 'value': 'http://www.wikidata.org/entity/Q19652'}, 'creatorLabel': {'xml:lang': 'de', 'type': 'literal', 'value': 'Camille Pissarro'}, 'materialLabel': {'xml:lang': 'de', 'type': 'literal', 'value': 'Leinwand'}, 'inventory_numberLabel': {'type': 'literal', 'value': 'NG 23/61'}, 'copyright_statusLabel': {'xml:lang': 'de', 'type': 'literal', 'value': 'Gemeinfreiheit'}, 'image': {'type': 'uri', 'value': 'http://commons.wikimedia.org/wiki/Special:FilePath/1870%20Pissarro%20Louveciennes%20mit%20Mont%20Valerien%20anagoria.JPG'}, 'title': {'xml:lang': 'de', 'type': 'literal', 'value': 'Louveciennes mit dem Mont Valérien im Hintergrund'}, 'inceptionyear': {'datatype': 'http://www.w3.org/2001/XMLSchema#integer', 'type': 'literal', 'value': '1870'}}\n",
      "{'painting': {'type': 'uri', 'value': 'http://www.wikidata.org/entity/Q23009065'}, 'creator': {'type': 'uri', 'value': 'http://www.wikidata.org/entity/Q113144'}, 'inventory_number': {'type': 'literal', 'value': 'A I 580'}, 'material': {'type': 'uri', 'value': 'http://www.wikidata.org/entity/Q12321255'}, 'copyright_status': {'type': 'uri', 'value': 'http://www.wikidata.org/entity/Q19652'}, 'creatorLabel': {'xml:lang': 'de', 'type': 'literal', 'value': 'Dora Hitz'}, 'materialLabel': {'xml:lang': 'de', 'type': 'literal', 'value': 'Leinwand'}, 'inventory_numberLabel': {'type': 'literal', 'value': 'A I 580'}, 'copyright_statusLabel': {'xml:lang': 'de', 'type': 'literal', 'value': 'Gemeinfreiheit'}, 'image': {'type': 'uri', 'value': 'http://commons.wikimedia.org/wiki/Special:FilePath/Dora%20Hitz-%20Portrait%20of%20a%20girl%20-%20Gem%C3%A4ldegalerie.jpg'}, 'title': {'xml:lang': 'de', 'type': 'literal', 'value': 'Bildnis eines kleinen Mädchens'}, 'inceptionyear': {'datatype': 'http://www.w3.org/2001/XMLSchema#integer', 'type': 'literal', 'value': '1880'}}\n",
      "{'painting': {'type': 'uri', 'value': 'http://www.wikidata.org/entity/Q30005101'}, 'creator': {'type': 'uri', 'value': 'http://www.wikidata.org/entity/Q821537'}, 'inventory_number': {'type': 'literal', 'value': 'A II 829'}, 'material': {'type': 'uri', 'value': 'http://www.wikidata.org/entity/Q12321255'}, 'copyright_status': {'type': 'uri', 'value': 'http://www.wikidata.org/entity/Q19652'}, 'creatorLabel': {'xml:lang': 'de', 'type': 'literal', 'value': 'Carl Friedrich Lessing'}, 'materialLabel': {'xml:lang': 'de', 'type': 'literal', 'value': 'Leinwand'}, 'inventory_numberLabel': {'type': 'literal', 'value': 'A II 829'}, 'copyright_statusLabel': {'xml:lang': 'de', 'type': 'literal', 'value': 'Gemeinfreiheit'}, 'image': {'type': 'uri', 'value': 'http://commons.wikimedia.org/wiki/Special:FilePath/Hussitenpredigt.jpg'}, 'title': {'xml:lang': 'de', 'type': 'literal', 'value': 'Hussitenpredigt'}, 'inceptionyear': {'datatype': 'http://www.w3.org/2001/XMLSchema#integer', 'type': 'literal', 'value': '1836'}}\n",
      "{'painting': {'type': 'uri', 'value': 'http://www.wikidata.org/entity/Q41975024'}, 'creator': {'type': 'uri', 'value': 'http://www.wikidata.org/entity/Q1167278'}, 'inventory_number': {'type': 'literal', 'value': 'W.S. 153'}, 'material': {'type': 'uri', 'value': 'http://www.wikidata.org/entity/Q12321255'}, 'copyright_status': {'type': 'uri', 'value': 'http://www.wikidata.org/entity/Q19652'}, 'creatorLabel': {'xml:lang': 'de', 'type': 'literal', 'value': 'Dietrich Monten'}, 'materialLabel': {'xml:lang': 'de', 'type': 'literal', 'value': 'Leinwand'}, 'inventory_numberLabel': {'type': 'literal', 'value': 'W.S. 153'}, 'copyright_statusLabel': {'xml:lang': 'de', 'type': 'literal', 'value': 'Gemeinfreiheit'}, 'image': {'type': 'uri', 'value': 'http://commons.wikimedia.org/wiki/Special:FilePath/Dietrich%20Monten%20Finis%20Poloniae.%20Abschied%20der%20Polen%20von%20ihrem%20Vaterlande%201831.jpg'}, 'title': {'xml:lang': 'de', 'type': 'literal', 'value': 'Finis Poloniae. Abschied der Polen von ihrem Vaterlande 1831'}, 'inceptionyear': {'datatype': 'http://www.w3.org/2001/XMLSchema#integer', 'type': 'literal', 'value': '1832'}}\n",
      "{'painting': {'type': 'uri', 'value': 'http://www.wikidata.org/entity/Q48757613'}, 'creator': {'type': 'uri', 'value': 'http://www.wikidata.org/entity/Q668099'}, 'inventory_number': {'type': 'literal', 'value': 'A II 391'}, 'material': {'type': 'uri', 'value': 'http://www.wikidata.org/entity/Q12321255'}, 'copyright_status': {'type': 'uri', 'value': 'http://www.wikidata.org/entity/Q19652'}, 'creatorLabel': {'xml:lang': 'de', 'type': 'literal', 'value': 'Julius Hübner'}, 'materialLabel': {'xml:lang': 'de', 'type': 'literal', 'value': 'Leinwand'}, 'inventory_numberLabel': {'type': 'literal', 'value': 'A II 391'}, 'copyright_statusLabel': {'xml:lang': 'de', 'type': 'literal', 'value': 'Gemeinfreiheit'}, 'image': {'type': 'uri', 'value': 'http://commons.wikimedia.org/wiki/Special:FilePath/Pauline%20H%C3%BCbner%2C%20by%20Julius%20H%C3%BCbner.jpg'}, 'title': {'xml:lang': 'de', 'type': 'literal', 'value': 'Pauline Hübner, geb. Bendemann'}, 'inceptionyear': {'datatype': 'http://www.w3.org/2001/XMLSchema#integer', 'type': 'literal', 'value': '1829'}}\n",
      "{'painting': {'type': 'uri', 'value': 'http://www.wikidata.org/entity/Q31188374'}, 'creator': {'type': 'uri', 'value': 'http://www.wikidata.org/entity/Q1190012'}, 'inventory_number': {'type': 'literal', 'value': 'A I 420'}, 'material': {'type': 'uri', 'value': 'http://www.wikidata.org/entity/Q12321255'}, 'copyright_status': {'type': 'uri', 'value': 'http://www.wikidata.org/entity/Q19652'}, 'creatorLabel': {'xml:lang': 'de', 'type': 'literal', 'value': 'Osman Hamdi Bey'}, 'materialLabel': {'xml:lang': 'de', 'type': 'literal', 'value': 'Leinwand'}, 'inventory_numberLabel': {'type': 'literal', 'value': 'A I 420'}, 'copyright_statusLabel': {'xml:lang': 'de', 'type': 'literal', 'value': 'Gemeinfreiheit'}, 'image': {'type': 'uri', 'value': 'http://commons.wikimedia.org/wiki/Special:FilePath/1888%20Bey%20Persischer%20Teppichh%C3%A4ndler%20auf%20der%20Stra%C3%9Fe%20anagoria.JPG'}, 'title': {'xml:lang': 'de', 'type': 'literal', 'value': 'Türkische Straßenszene'}, 'inceptionyear': {'datatype': 'http://www.w3.org/2001/XMLSchema#integer', 'type': 'literal', 'value': '1888'}}\n"
     ]
    }
   ],
   "source": [
    "import sys\n",
    "from SPARQLWrapper import SPARQLWrapper, JSON\n",
    "\n",
    "# query link - https://w.wiki/6yhw\n",
    "\n",
    "endpoint_url = \"https://query.wikidata.org/sparql\"\n",
    "\n",
    "query = \"\"\"#defaultView:ImageGrid\n",
    "SELECT DISTINCT ?painting ?title ?creator ?creatorLabel ?inceptionyear ?material ?materialLabel ?image ?inventory_number ?inventory_numberLabel ?copyright_status ?copyright_statusLabel WHERE {\n",
    "  SERVICE wikibase:label { bd:serviceParam wikibase:language \"[AUTO_LANGUAGE],de\". }\n",
    "  ?painting wdt:P195 wd:Q162111;\n",
    "    ((wdt:P31?)/(wdt:P279*)) wd:Q3305213;\n",
    "    p:P186 _:b34.\n",
    "  _:b34 ps:P186 ?material;\n",
    "    pq:P518 wd:Q861259.\n",
    "  ?painting wdt:P18 ?image;\n",
    "    wdt:P1476 ?title;\n",
    "    wdt:P170 ?creator;\n",
    "    wdt:P571 ?inception.\n",
    "  BIND(YEAR(?inception) AS ?inceptionyear)\n",
    "  ?painting wdt:P6216 ?copyright_status;\n",
    "    p:P217 _:b35.\n",
    "  _:b35 ps:P217 ?inventory_number;\n",
    "    pq:P195 wd:Q162111.\n",
    "}\n",
    "LIMIT 9\"\"\"\n",
    "\n",
    "\n",
    "def get_results(endpoint_url, query):\n",
    "    user_agent = \"WDQS-example Python/%s.%s\" % (sys.version_info[0], sys.version_info[1])\n",
    "    # TODO adjust user agent; see https://w.wiki/CX6\n",
    "    sparql = SPARQLWrapper(endpoint_url, agent=user_agent)\n",
    "    sparql.setQuery(query)\n",
    "    sparql.setReturnFormat(JSON)\n",
    "    return sparql.query().convert()\n",
    "\n",
    "\n",
    "results = get_results(endpoint_url, query)\n",
    "\n",
    "for result in results[\"results\"][\"bindings\"]:\n",
    "    print(result)\n",
    "\n"
   ]
  },
  {
   "cell_type": "markdown",
   "metadata": {},
   "source": [
    "\n",
    "\n",
    "    Custom Collection by Lisa Sommer (July 23): Paintings part of the collection of the Alte Nationalgalerie, Berlin https://www.wikidata.org/wiki/Q162111.\n",
    "\n",
    "    The collection Notebook only contains the SPARQL query and needs additional Python adding to parse the metadata output.\n"
   ]
  }
 ],
 "metadata": {
  "kernelspec": {
   "display_name": "Python 3 (ipykernel)",
   "language": "python",
   "name": "python3"
  },
  "language_info": {
   "codemirror_mode": {
    "name": "ipython",
    "version": 3
   },
   "file_extension": ".py",
   "mimetype": "text/x-python",
   "name": "python",
   "nbconvert_exporter": "python",
   "pygments_lexer": "ipython3",
   "version": "3.11.4"
  }
 },
 "nbformat": 4,
 "nbformat_minor": 2
}
