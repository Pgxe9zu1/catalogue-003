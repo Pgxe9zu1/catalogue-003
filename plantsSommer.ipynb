{
 "cells": [
  {
   "cell_type": "raw",
   "id": "f7dc2cd0",
   "metadata": {},
   "source": [
    "---\n",
    "title: \"Activity: Plant catalogue in Jupyter Notebook\"\n",
    "jupyter: python3\n",
    "execute:\n",
    "  echo: false\n",
    "  output: asis\n",
    "---"
   ]
  },
  {
   "attachments": {},
   "cell_type": "markdown",
   "id": "97bccdc4",
   "metadata": {},
   "source": [
    "Objective: Make a selection of nine paintings for the exhibition catalogue to be selected from Wikidata and rendered multi-format in Quarto."
   ]
  },
  {
   "attachments": {},
   "cell_type": "markdown",
   "id": "bd2c1006",
   "metadata": {},
   "source": [
    "The below Python code uses SPARQLWrapper to retrieve data from Wikidata based on a SPARQL query."
   ]
  },
  {
   "cell_type": "code",
   "execution_count": 1,
   "id": "eae3a22f",
   "metadata": {},
   "outputs": [
    {
     "name": "stdout",
     "output_type": "stream",
     "text": [
      "Requirement already satisfied: SPARQLWrapper in c:\\users\\lisas\\appdata\\local\\programs\\python\\python311\\lib\\site-packages (2.0.0)Note: you may need to restart the kernel to use updated packages.\n",
      "\n",
      "Requirement already satisfied: rdflib>=6.1.1 in c:\\users\\lisas\\appdata\\local\\programs\\python\\python311\\lib\\site-packages (from SPARQLWrapper) (6.3.2)\n",
      "Requirement already satisfied: isodate<0.7.0,>=0.6.0 in c:\\users\\lisas\\appdata\\local\\programs\\python\\python311\\lib\\site-packages (from rdflib>=6.1.1->SPARQLWrapper) (0.6.1)\n",
      "Requirement already satisfied: pyparsing<4,>=2.1.0 in c:\\users\\lisas\\appdata\\local\\programs\\python\\python311\\lib\\site-packages (from rdflib>=6.1.1->SPARQLWrapper) (3.0.9)\n",
      "Requirement already satisfied: six in c:\\users\\lisas\\appdata\\local\\programs\\python\\python311\\lib\\site-packages (from isodate<0.7.0,>=0.6.0->rdflib>=6.1.1->SPARQLWrapper) (1.16.0)\n"
     ]
    }
   ],
   "source": [
    "%pip install SPARQLWrapper\n",
    "from SPARQLWrapper import SPARQLWrapper, JSON\n",
    "from PIL import Image\n",
    "import requests"
   ]
  },
  {
   "cell_type": "code",
   "execution_count": 2,
   "id": "6318b942",
   "metadata": {},
   "outputs": [],
   "source": [
    "from SPARQLWrapper import SPARQLWrapper, JSON\n",
    "from PIL import Image\n",
    "import requests"
   ]
  },
  {
   "cell_type": "code",
   "execution_count": 3,
   "id": "3e2c64e4",
   "metadata": {},
   "outputs": [],
   "source": [
    "# VARIABLES\n",
    "\n",
    "sparql_endpoint_url = 'https://query.wikidata.org/bigdata/namespace/wdq/sparql'\n",
    "wikibase_url = 'https://www.wikidata.org'\n",
    "api_url = '/w/api.php'\n",
    "\n",
    "# Wikidata requires a user agent header to prevent spam requests\n",
    "user_agent = 'Paintings_conference_bot/0.0 (https://github.com/Pgxe9zu1/catalogue-003; lisa.sommer@stud.hs-hannover.de)'\n",
    "\n",
    "# SPARQL query\n",
    "# see in Wikidata's Query Service GUI at:\n",
    "# https://w.wiki/6qQ2\n",
    "query = \"\"\"\n",
    "#defaultView:ImageGrid\n",
    "SELECT DISTINCT ?wissenschaftlicher_Name ?Bild ?item ?übergeordnetes_Taxon ?übergeordnetes_TaxonLabel ?Gefährdungsstufe__IUCN_ ?Gefährdungsstufe__IUCN_Label \n",
    "WHERE {\n",
    "  SERVICE wikibase:label { bd:serviceParam wikibase:language \"[AUTO_LANGUAGE],de\". }\n",
    "  ?item wdt:P31 wd:Q16521;\n",
    "    wdt:P195 wd:Q119251813;\n",
    "    wdt:P18 ?Bild.\n",
    "  OPTIONAL {\n",
    "    ?item wdt:P225 ?wissenschaftlicher_Name;\n",
    "      wdt:P171 ?übergeordnetes_Taxon;\n",
    "      wdt:P3342 ?relevante_Person;\n",
    "      wdt:P141 ?Gefährdungsstufe__IUCN_.\n",
    "  }\n",
    "}\n",
    "LIMIT 10\n",
    "\"\"\"\n"
   ]
  },
  {
   "cell_type": "code",
   "execution_count": 4,
   "id": "afe9a4ee",
   "metadata": {},
   "outputs": [
    {
     "ename": "NameError",
     "evalue": "name 'result' is not defined",
     "output_type": "error",
     "traceback": [
      "\u001b[1;31m---------------------------------------------------------------------------\u001b[0m",
      "\u001b[1;31mNameError\u001b[0m                                 Traceback (most recent call last)",
      "Cell \u001b[1;32mIn[4], line 2\u001b[0m\n\u001b[0;32m      1\u001b[0m \u001b[39m# for each result, print various data fields\u001b[39;00m\n\u001b[1;32m----> 2\u001b[0m \u001b[39mfor\u001b[39;00m item \u001b[39min\u001b[39;00m result[\u001b[39m'\u001b[39m\u001b[39mresults\u001b[39m\u001b[39m'\u001b[39m][\u001b[39m'\u001b[39m\u001b[39mbindings\u001b[39m\u001b[39m'\u001b[39m]:\n\u001b[0;32m      3\u001b[0m     \u001b[39mprint\u001b[39m(\u001b[39m'\u001b[39m\u001b[39mDownload RDF: \u001b[39m\u001b[39m'\u001b[39m \u001b[39m+\u001b[39m \u001b[39m'\u001b[39m\u001b[39m[\u001b[39m\u001b[39m'\u001b[39m \u001b[39m+\u001b[39m item[\u001b[39m'\u001b[39m\u001b[39mitem\u001b[39m\u001b[39m'\u001b[39m][\u001b[39m'\u001b[39m\u001b[39mvalue\u001b[39m\u001b[39m'\u001b[39m] \u001b[39m+\u001b[39m \u001b[39m'\u001b[39m\u001b[39m]\u001b[39m\u001b[39m'\u001b[39m \u001b[39m+\u001b[39m \u001b[39m'\u001b[39m\u001b[39m(\u001b[39m\u001b[39m'\u001b[39m \u001b[39m+\u001b[39m item[\u001b[39m'\u001b[39m\u001b[39mitem\u001b[39m\u001b[39m'\u001b[39m][\u001b[39m'\u001b[39m\u001b[39mvalue\u001b[39m\u001b[39m'\u001b[39m] \u001b[39m+\u001b[39m \u001b[39m'\u001b[39m\u001b[39m)\u001b[39m\u001b[39m'\u001b[39m \u001b[39m+\u001b[39m \u001b[39m'\u001b[39m\u001b[39m\\n\u001b[39;00m\u001b[39m'\u001b[39m)\n\u001b[0;32m      4\u001b[0m     \u001b[39mprint\u001b[39m(\u001b[39m'\u001b[39m\u001b[39mTitle: \u001b[39m\u001b[39m'\u001b[39m \u001b[39m+\u001b[39m item[\u001b[39m'\u001b[39m\u001b[39mtitle\u001b[39m\u001b[39m'\u001b[39m][\u001b[39m'\u001b[39m\u001b[39mvalue\u001b[39m\u001b[39m'\u001b[39m] \u001b[39m+\u001b[39m \u001b[39m'\u001b[39m\u001b[39m\\n\u001b[39;00m\u001b[39m'\u001b[39m)\n",
      "\u001b[1;31mNameError\u001b[0m: name 'result' is not defined"
     ]
    }
   ],
   "source": [
    "\n",
    "# for each result, print various data fields\n",
    "for item in result['results']['bindings']:\n",
    "    print('Download RDF: ' + '[' + item['item']['value'] + ']' + '(' + item['item']['value'] + ')' + '\\n')\n",
    "    print('Title: ' + item['title']['value'] + '\\n')\n",
    "    print('Creator: ' + item['creatorLabel']['value'] + '\\n')\n",
    "    print('Year: ' + item['inception']['value'] + '\\n')\n",
    "    print('Inventory number: ' + item['inventory_number']['value'] + '\\n')\n",
    "    print('Copyright: ' + item['copyright_statusLabel']['value'] + '\\n')\n",
    "    print('Material: ' + item['made_from_materialLabel']['value'] + '\\n')"
   ]
  },
  {
   "cell_type": "code",
   "execution_count": null,
   "id": "c0fb98dc",
   "metadata": {},
   "outputs": [],
   "source": [
    "# SUBROUTINES\n",
    "\n",
    "def get_delay(date):\n",
    "    try:\n",
    "        date = datetime.datetime.strptime(date, '%a, %d %b %Y %H:%M:%S GMT')\n",
    "        timeout = int((date - datetime.datetime.now()).total_seconds())\n",
    "    except ValueError:\n",
    "        timeout = int(date)\n",
    "    return timeout\n",
    "\n",
    "def get_image(url, headers):\n",
    "    r = requests.get(url, headers=headers, stream=True)\n",
    "    if r.status_code == 200:\n",
    "        im = Image.open(r.raw)\n",
    "        return im\n",
    "    if r.status_code == 500:\n",
    "        return None\n",
    "    if r.status_code == 403:\n",
    "        return None\n",
    "    if r.status_code == 429:\n",
    "        timeout = get_delay(r.headers['retry-after'])\n",
    "        print('Timeout {} m {} s'.format(timeout // 60, timeout % 60))\n",
    "        time.sleep(timeout)\n",
    "        get_image(url, headers)\n"
   ]
  },
  {
   "cell_type": "code",
   "execution_count": null,
   "id": "20574eb3",
   "metadata": {},
   "outputs": [],
   "source": [
    "# MAIN PROGRAM\n",
    "\n",
    "# create SPARQL query\n",
    "sparql = SPARQLWrapper(sparql_endpoint_url, agent=user_agent)\n",
    "\n",
    "# retrieve results and convert to JSON format\n",
    "sparql.setQuery(query)\n",
    "sparql.setReturnFormat(JSON)\n",
    "result = sparql.query().convert()\n",
    "\n",
    "# for each result, print various data fields\n",
    "for item in result['results']['bindings']:\n",
    "    print('Wikidata link: ' + '[' + item['item']['value'] + ']' + '(' + item['item']['value'] + ')' + '\\n')\n",
    "    print('Title: ' + item['title']['value'] + '\\n')\n",
    "    print('Creator: ' + item['creatorLabel']['value'] + '\\n')\n",
    "    print('Year: ' + item['inception']['value'] + '\\n')\n",
    "    print('Inventory number: ' + item['inventory_number']['value'] + '\\n')\n",
    "    print('Copyright: ' + item['copyright_statusLabel']['value'] + '\\n')\n",
    "    print('Material: ' + item['made_from_materialLabel']['value'] + '\\n')\n",
    "    \n",
    "\n",
    "    \n",
    "    # get image from image URL and display resized version\n",
    "    image_url=item['image']['value']\n",
    "    headers = {'User-Agent': 'Ex_Books_conference_bot/0.0 (https://github.com/Pgxe9zu1/catalogue-003; lisa.sommer@stud.hs-hannover.de)'}\n",
    "    im = get_image(image_url, headers)\n",
    "    im.thumbnail((500, 500), Image.Resampling.LANCZOS)\n",
    "    display(im)\n",
    "    print('\\n\\n')"
   ]
  }
 ],
 "metadata": {
  "kernelspec": {
   "display_name": "Python 3 (ipykernel)",
   "language": "python",
   "name": "python3"
  },
  "language_info": {
   "codemirror_mode": {
    "name": "ipython",
    "version": 3
   },
   "file_extension": ".py",
   "mimetype": "text/x-python",
   "name": "python",
   "nbconvert_exporter": "python",
   "pygments_lexer": "ipython3",
   "version": "3.11.4"
  },
  "vscode": {
   "interpreter": {
    "hash": "4f95cac2866d48a154725f15da66ad3889a01053732bcd1fedad154961939282"
   }
  }
 },
 "nbformat": 4,
 "nbformat_minor": 5
}
